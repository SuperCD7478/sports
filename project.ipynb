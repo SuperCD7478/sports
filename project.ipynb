{
 "cells": [
  {
   "cell_type": "code",
   "execution_count": 2,
   "metadata": {},
   "outputs": [],
   "source": [
    "import pandas as pd\n",
    "import numpy as np\n",
    "import sklearn as sk\n",
    "\n",
    "df1 = pd.read_csv(\"week1.csv\")\n",
    "df2 = pd.read_csv(\"week2.csv\")\n",
    "df3 = pd.read_csv(\"week3.csv\")\n",
    "df4 = pd.read_csv(\"week4.csv\")\n",
    "df5 = pd.read_csv(\"week5.csv\")\n",
    "df6 = pd.read_csv(\"week6.csv\")\n",
    "df7 = pd.read_csv(\"week7.csv\")\n",
    "df8 = pd.read_csv(\"week8.csv\")\n",
    "df9 = pd.read_csv(\"week9.csv\")\n",
    "df10 = pd.read_csv(\"week10.csv\")\n",
    "df11 = pd.read_csv(\"week11.csv\")\n",
    "df12 = pd.read_csv(\"week12.csv\")\n",
    "df13 = pd.read_csv(\"week13.csv\")\n",
    "df14 = pd.read_csv(\"week14.csv\")\n",
    "df15 = pd.read_csv(\"week15.csv\")\n",
    "df16 = pd.read_csv(\"week16.csv\")\n",
    "df17 = pd.read_csv(\"week17.csv\")\n",
    "\n",
    "frames = [df1, df2, df3, df4, df5, df6, df7, df8, df9, df10, df11, df12, df13, df14, df15, df16, df17]\n",
    "\n",
    "all_weeks = pd.concat(frames)"
   ]
  },
  {
   "cell_type": "code",
   "execution_count": null,
   "metadata": {},
   "outputs": [],
   "source": [
    "all_weeks.to_csv('out.csv')"
   ]
  }
 ],
 "metadata": {
  "kernelspec": {
   "display_name": "base",
   "language": "python",
   "name": "python3"
  },
  "language_info": {
   "codemirror_mode": {
    "name": "ipython",
    "version": 3
   },
   "file_extension": ".py",
   "mimetype": "text/x-python",
   "name": "python",
   "nbconvert_exporter": "python",
   "pygments_lexer": "ipython3",
   "version": "3.11.4"
  }
 },
 "nbformat": 4,
 "nbformat_minor": 2
}
